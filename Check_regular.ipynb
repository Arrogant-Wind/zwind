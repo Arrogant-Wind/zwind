{
  "nbformat": 4,
  "nbformat_minor": 0,
  "metadata": {
    "colab": {
      "name": "Check regular.ipynb",
      "provenance": [],
      "collapsed_sections": [],
      "authorship_tag": "ABX9TyO1kjFm7aH94QaQeySKN+vG",
      "include_colab_link": true
    },
    "kernelspec": {
      "name": "python3",
      "display_name": "Python 3"
    }
  },
  "cells": [
    {
      "cell_type": "markdown",
      "metadata": {
        "id": "view-in-github",
        "colab_type": "text"
      },
      "source": [
        "<a href=\"https://colab.research.google.com/github/Arrogant-Wind/zwind/blob/master/Check_regular.ipynb\" target=\"_parent\"><img src=\"https://colab.research.google.com/assets/colab-badge.svg\" alt=\"Open In Colab\"/></a>"
      ]
    },
    {
      "cell_type": "code",
      "metadata": {
        "id": "g0QnGOWPG0ou",
        "colab_type": "code",
        "colab": {}
      },
      "source": [
        "import numpy as np\n",
        "from numpy.linalg import inv\n",
        "import collections\n",
        "P1= [ 0.9, 0.05, 0.05, 0.7 ,0 ,0.3, 0.8, 0, 0.2]\n",
        "P2=[ 0 , 0.09 , 0, 0 ,0.9, 0.91, 0, 0.09, 0, 0,0, 0.91, 0,0.09, 0,0 ,0 ,0.91, 0,0.09, 0.09,0,0,0.91,0]\n",
        "I1 = [str(i) for i in range (0,3)]\n",
        "I2 = [ str(i) for i in range(0,5)]\n",
        "\n",
        "\n",
        "def stationary_distribution(P,I):\n",
        "  pi=[]\n",
        "  n= len(I)\n",
        "  P= np.array(np.reshape(P,(n,n)))\n",
        "  \n",
        "  for i in range(0,n):\n",
        "    A= np.transpose(P-np.eye(n))\n",
        "    A[-i,:]=np.ones((1,n))\n",
        "    B=np.zeros(n)\n",
        "    B[-1]=1\n",
        "    if all(i >= 0  for i in np.dot(np.transpose(B),inv(np.transpose(A)))):\n",
        "      pi.append(np.dot(np.transpose(B),inv(np.transpose(A))))\n",
        "\n",
        "  return pi\n",
        "\n",
        "def check_regular(P,I):\n",
        "  if len(stationary_distribution(P,I)) == 1:\n",
        "    return True\n",
        "  else:\n",
        "    return False\n",
        "\n",
        "def find_Ergodic(P,I):\n",
        "  if check_regular(P,I):\n",
        "    return stationary_distribution(P,I)"
      ],
      "execution_count": 0,
      "outputs": []
    },
    {
      "cell_type": "markdown",
      "metadata": {
        "id": "a_qSBjr3_yce",
        "colab_type": "text"
      },
      "source": [
        "Theo Đinh lý Ergodic: \\\n",
        "Nếu Hpt sau có nghiệm duy nhất thì ma trận P là chính quy:\\\n",
        "$(P-I)=0$ \\\n",
        "$x_j \\geq 0$ \\\n",
        "$\\sum x_j =1$ , j in I\n"
      ]
    },
    {
      "cell_type": "code",
      "metadata": {
        "id": "F3ZL_9kC0RLT",
        "colab_type": "code",
        "outputId": "846e8e77-f6f4-455d-83a3-037db59d70ba",
        "colab": {
          "base_uri": "https://localhost:8080/",
          "height": 67
        }
      },
      "source": [
        "for item in stationary_distribution(P2,I2):\n",
        "  print(item, \"\\n\")\n",
        "  \n",
        "check_regular(P2,I2)\n",
        "print(\"PP Ergodic: \" , find_Ergodic(P2,I2))\n"
      ],
      "execution_count": 20,
      "outputs": [
        {
          "output_type": "stream",
          "text": [
            "[0.2 0.2 0.2 0.2 0.2] \n",
            "\n",
            "PP Ergodic:  [array([0.2, 0.2, 0.2, 0.2, 0.2])]\n"
          ],
          "name": "stdout"
        }
      ]
    },
    {
      "cell_type": "code",
      "metadata": {
        "id": "2mum1AO9oEnf",
        "colab_type": "code",
        "colab": {}
      },
      "source": [
        ""
      ],
      "execution_count": 0,
      "outputs": []
    }
  ]
}